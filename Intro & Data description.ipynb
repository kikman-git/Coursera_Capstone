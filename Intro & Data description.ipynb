{
 "cells": [
  {
   "cell_type": "markdown",
   "metadata": {},
   "source": [
    "<h1 align=center><font size = 5>The Battle of Neighborhoods: Tokyo versus Ho Chi Minh</font></h1>"
   ]
  },
  {
   "cell_type": "markdown",
   "metadata": {},
   "source": [
    "### A. Introduction\n",
    "\n",
    "#### A.1 Description & Discussion of the Background\n",
    "\n",
    "Located in South-East Asia, Vietnam is a developing country with a large, young population of 95 million people. The country also has an interesting S-shape, which can be seen on Google Maps. **Ho Chi Minh** city lies at the bottom of the S, and it is the financial centre and the most populous city of Vietnam. With its fast-growing economy and energetic labor force, **Ho Chi Minh** city has become an attractive location for foreign investment.\n",
    "\n",
    "Famous for its very high cost of living, **Tokyo**, capital of Japan on the other hand, is one of the most populous and economically advanced metropolises in the world. The city attracts millions of tourists every year, as well as workers and students who seek for better career in a developed country. There are many advantages of living in **Tokyo**, such as convenient public transportation, superior education or a relatively safe environment.  \n",
    "\n",
    "As a business student who has experienced life in both cities, there are certain aspects that I both love and hate about the lifestyle in each city. However, I would not have the confidence to make an opinion about the differences between **Ho Chi Minh** and **Tokyo** because of the lack of relevant information. Using the knowledge that I obtained from the IBM Data Science Professional Certificate courses, I decided to explore my two favorite cities on a deeper level, compare and contrast the result, by using data and statistics. \n",
    "\n",
    "Anyone who is interested in Vietnam and Japan will find this study useful. Considering that we are comparing the differences between the two cities, data visualization technique such as map "
   ]
  },
  {
   "cell_type": "markdown",
   "metadata": {},
   "source": [
    "#### B.2 Data Description\n",
    "\n",
    "- A data of all Third-level Administrative Divisions of the Ho Chi Minh and their respective populations can be found on the Ho Chi Minh government homepage. http://www.pso.hochiminhcity.gov.vn/web/guest/niengiamthongke-nam2010-dansovalaodong\n",
    "\n",
    "- From the Japanese government statistics website, I extracted municipality data of Tokyo with selected item of Total population and got the data of all neighborhoods in Tokyo along with their population. https://www.e-stat.go.jp/en/regional-statistics/ssdsview/municipality\n",
    "\n",
    "- I cleaned the two data sets and got two dataframes with each dataframe contains two columns of Neighborhood and Population.\n",
    "\n",
    "- I then used Google Geocoding API to get coordinates of all neighborhoods in Tokyo and Ho Chi Minh.\n",
    "\n",
    "- I used Foursquare API to get the most common venues of each neighborhood."
   ]
  },
  {
   "cell_type": "code",
   "execution_count": null,
   "metadata": {},
   "outputs": [],
   "source": []
  }
 ],
 "metadata": {
  "kernelspec": {
   "display_name": "Python 3",
   "language": "python",
   "name": "python3"
  },
  "language_info": {
   "codemirror_mode": {
    "name": "ipython",
    "version": 3
   },
   "file_extension": ".py",
   "mimetype": "text/x-python",
   "name": "python",
   "nbconvert_exporter": "python",
   "pygments_lexer": "ipython3",
   "version": "3.7.0"
  }
 },
 "nbformat": 4,
 "nbformat_minor": 2
}
